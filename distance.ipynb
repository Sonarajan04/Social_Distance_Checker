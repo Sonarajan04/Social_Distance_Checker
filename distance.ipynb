{
 "cells": [
  {
   "cell_type": "code",
   "execution_count": 1,
   "metadata": {},
   "outputs": [],
   "source": [
    "import cv2\n",
    "import numpy as np"
   ]
  },
  {
   "cell_type": "code",
   "execution_count": 2,
   "metadata": {},
   "outputs": [],
   "source": [
    "# Placeholder function for gender prediction (replace this with your actual gender classification model)\n",
    "def predict_gender(face_roi):\n",
    "    # Placeholder: Simulate gender prediction using a simple check (change this)\n",
    "    # Replace this logic with your actual gender classification model prediction\n",
    "    # For demonstration purposes, this example assumes it predicts gender based on the face's width\n",
    "    face_width = face_roi.shape[1]\n",
    "    if face_width > 100:\n",
    "        return \"Male\"\n",
    "    else:\n",
    "        return \"Female\"\n",
    "\n",
    "# Initialize OpenCV's HOG people detector\n",
    "hog = cv2.HOGDescriptor()\n",
    "hog.setSVMDetector(cv2.HOGDescriptor_getDefaultPeopleDetector())"
   ]
  },
  {
   "cell_type": "code",
   "execution_count": 7,
   "metadata": {},
   "outputs": [
    {
     "name": "stderr",
     "output_type": "stream",
     "text": [
      "<ipython-input-7-2e27475c3ca4>:30: RuntimeWarning: invalid value encountered in sqrt\n",
      "  distance = np.sqrt(((x2 + w2/2) - (x1 + w1/2)) * 2 + ((y2 + h2/2) - (y1 + h1/2)) * 2)\n"
     ]
    }
   ],
   "source": [
    "# Open webcam\n",
    "video = cv2.VideoCapture(\"/home/athira/Desktop/DL projects may/social distance/pexels-venya-pak-7969429 (2160p).mp4\")\n",
    "\n",
    "while True:\n",
    "    success, frame = video.read()\n",
    "\n",
    "    # Detect people in the frame\n",
    "    boxes, _ = hog.detectMultiScale(frame, winStride=(8, 8), padding=(16, 16), scale=1.05)\n",
    "\n",
    "    if len(boxes) > 0:\n",
    "        # Loop through detected people\n",
    "        for x, y, w, h in boxes:\n",
    "            # Draw rectangles around detected people\n",
    "            cv2.rectangle(frame, (x, y), (x + w, y + h), (0, 255, 0), 2)\n",
    "\n",
    "            # Crop the detected face for gender classification (assuming face detected)\n",
    "            face_roi = frame[y:y + h, x:x + w]\n",
    "            # Perform gender classification on the cropped face\n",
    "            gender = predict_gender(face_roi)  # Replace with your actual gender prediction code\n",
    "\n",
    "            # Display gender label on the frame\n",
    "            cv2.putText(frame, f'Gender: {gender}', (x, y - 10), cv2.FONT_HERSHEY_SIMPLEX, 0.8, (0, 0, 255), 2)\n",
    "        # Calculate distance between detected people (for demonstration purposes)\n",
    "#         # You'll need a more sophisticated approach for accurate distance estimation\n",
    "        for i in range(len(boxes)):\n",
    "            for j in range(i+1, len(boxes)):\n",
    "                x1, y1, w1, h1 = boxes[i]\n",
    "                x2, y2, w2, h2 = boxes[j]\n",
    "                # Calculate Euclidean distance between centers of detected people\n",
    "                distance = np.sqrt(((x2 + w2/2) - (x1 + w1/2)) * 2 + ((y2 + h2/2) - (y1 + h1/2)) * 2)\n",
    "\n",
    "#                 # Convert pixel distance to feet (approximate, based on your scene)\n",
    "                distance_feet = distance * 0.3  # Adjust this conversion factor based on your camera and scene\n",
    "\n",
    "#                 # Display distance between people\n",
    "                cv2.putText(frame, f'Distance: {distance_feet:.2f} feet', (x1, y1 + h1 + 20), cv2.FONT_HERSHEY_SIMPLEX, 0.8, (0,0,0), 2)\n",
    "    # Display the frame\n",
    "    cv2.imshow('Social Distancing Checker', frame)\n",
    "    cv2.imshow('Gender Detection', frame)\n",
    "\n",
    "    # Press 'q' to exit\n",
    "    if cv2.waitKey(1) & 0xFF == ord('q'):\n",
    "        break\n",
    "video.release()\n",
    "cv2.destroyAllWindows()\n"
   ]
  },
  {
   "cell_type": "code",
   "execution_count": 5,
   "metadata": {},
   "outputs": [],
   "source": [
    "# Release the webcam and close windows\n",
    "#video.release()\n",
    "#cv2.destroyAllWindows()"
   ]
  }
 ],
 "metadata": {
  "kernelspec": {
   "display_name": "base",
   "language": "python",
   "name": "python3"
  },
  "language_info": {
   "codemirror_mode": {
    "name": "ipython",
    "version": 3
   },
   "file_extension": ".py",
   "mimetype": "text/x-python",
   "name": "python",
   "nbconvert_exporter": "python",
   "pygments_lexer": "ipython3",
   "version": "3.8.8"
  }
 },
 "nbformat": 4,
 "nbformat_minor": 2
}
